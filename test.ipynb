{
 "cells": [
  {
   "cell_type": "code",
   "execution_count": 1,
   "metadata": {},
   "outputs": [],
   "source": [
    "from pythtb import * # import TB model class\n",
    "import matplotlib.pyplot as plt"
   ]
  },
  {
   "cell_type": "code",
   "execution_count": 11,
   "metadata": {
    "scrolled": true
   },
   "outputs": [
    {
     "name": "stdout",
     "output_type": "stream",
     "text": [
      "---------------------------------------\n",
      "report of tight-binding model\n",
      "---------------------------------------\n",
      "k-space dimension           = 2\n",
      "r-space dimension           = 2\n",
      "number of spin components   = 1\n",
      "periodic directions         = [0, 1]\n",
      "number of orbitals          = 2\n",
      "number of electronic states = 2\n",
      "lattice vectors:\n",
      " #  0  ===>  [     1.0 ,     0.0 ]\n",
      " #  1  ===>  [     0.0 ,     1.0 ]\n",
      "positions of orbitals:\n",
      " #  0  ===>  [     0.0 ,     0.0 ]\n",
      " #  1  ===>  [     0.5 ,     0.5 ]\n",
      "site energies:\n",
      " #  0  ===>      -2.0\n",
      " #  1  ===>       2.0\n",
      "hoppings:\n",
      "<  0 | H |  0 + [  1 ,  0 ] >     ===>     -1.0 +     0.0 i\n",
      "<  0 | H |  0 + [  0 ,  1 ] >     ===>     -1.0 +     0.0 i\n",
      "<  1 | H |  1 + [  1 ,  0 ] >     ===>      1.0 +     0.0 i\n",
      "<  1 | H |  1 + [  0 ,  1 ] >     ===>      1.0 +     0.0 i\n",
      "<  1 | H |  0 + [  1 ,  1 ] >     ===>      0.4 +     0.0 i\n",
      "<  1 | H |  0 + [  0 ,  1 ] >     ===>      0.0 +     0.4 i\n",
      "<  1 | H |  0 + [  0 ,  0 ] >     ===>     -0.4 +     0.0 i\n",
      "<  1 | H |  0 + [  1 ,  0 ] >     ===>     -0.0 -     0.4 i\n",
      "hopping distances:\n",
      "|  pos(  0 )  - pos(  0 + [  1 ,  0 ] ) |  =       1.0\n",
      "|  pos(  0 )  - pos(  0 + [  0 ,  1 ] ) |  =       1.0\n",
      "|  pos(  1 )  - pos(  1 + [  1 ,  0 ] ) |  =       1.0\n",
      "|  pos(  1 )  - pos(  1 + [  0 ,  1 ] ) |  =       1.0\n",
      "|  pos(  1 )  - pos(  0 + [  1 ,  1 ] ) |  =    0.7071\n",
      "|  pos(  1 )  - pos(  0 + [  0 ,  1 ] ) |  =    0.7071\n",
      "|  pos(  1 )  - pos(  0 + [  0 ,  0 ] ) |  =    0.7071\n",
      "|  pos(  1 )  - pos(  0 + [  1 ,  0 ] ) |  =    0.7071\n",
      "\n",
      "----- k_path report begin ----------\n",
      "real-space lattice vectors\n",
      " [[1. 0.]\n",
      " [0. 1.]]\n",
      "k-space metric tensor\n",
      " [[1. 0.]\n",
      " [0. 1.]]\n",
      "internal coordinates of nodes\n",
      " [[0.  0. ]\n",
      " [0.  0.5]\n",
      " [0.5 0.5]\n",
      " [0.  0. ]]\n",
      "reciprocal-space lattice vectors\n",
      " [[1. 0.]\n",
      " [0. 1.]]\n",
      "cartesian coordinates of nodes\n",
      " [[0.  0. ]\n",
      " [0.  0.5]\n",
      " [0.5 0.5]\n",
      " [0.  0. ]]\n",
      "list of segments:\n",
      "  length =     0.5  from  [0. 0.]  to  [0.  0.5]\n",
      "  length =     0.5  from  [0.  0.5]  to  [0.5 0.5]\n",
      "  length = 0.70711  from  [0.5 0.5]  to  [0. 0.]\n",
      "node distance list: [0.      0.5     1.      1.70711]\n",
      "node index list:    [  0  35  70 120]\n",
      "----- k_path report end ------------\n",
      "\n"
     ]
    },
    {
     "data": {
      "text/plain": [
       "[<matplotlib.lines.Line2D at 0x271fc1f4748>]"
      ]
     },
     "execution_count": 11,
     "metadata": {},
     "output_type": "execute_result"
    },
    {
     "data": {
      "image/png": "[encoded data removed]",
      "text/plain": [
       "<Figure size 288x216 with 1 Axes>"
      ]
     },
     "metadata": {},
     "output_type": "display_data"
    }
   ],
   "source": [
    "lat=[[1.0, 0.0], [0.0, 1.0]]\n",
    "orb=[[0.0, 0.0], [0.5, 0.5]]\n",
    "my_model = tbmodel(2, 2, lat, orb)\n",
    "# set model\n",
    "Delta = 2.0\n",
    "t_0 = 1.0\n",
    "tprime = 0.4\n",
    "my_model.set_sites([-Delta,Delta])\n",
    "my_model.add_hop(-t_0, 0, 0, [ 1, 0])\n",
    "my_model.add_hop(-t_0, 0, 0, [ 0, 1])\n",
    "my_model.add_hop( t_0, 1, 1, [ 1, 0])\n",
    "my_model.add_hop( t_0, 1, 1, [ 0, 1])\n",
    "my_model.add_hop( tprime , 1, 0, [ 1, 1])\n",
    "my_model.add_hop( tprime*1j, 1, 0, [ 0, 1])\n",
    "my_model.add_hop(-tprime , 1, 0, [ 0, 0])\n",
    "my_model.add_hop(-tprime*1j, 1, 0, [ 1, 0])\n",
    "my_model.display()\n",
    "# generate k-point path and labels and solve Hamiltonian\n",
    "path=[[0.0,0.0],[0.0,0.5],[0.5,0.5],[0.0,0.0]]\n",
    "k_lab=(r'$\\Gamma $',r'$X$', r'$M$', r'$\\Gamma$')\n",
    "(k_vec,k_dist,k_node)=my_model.k_path(path,121)\n",
    "evals=my_model.solve_all(k_vec)\n",
    "# plot band structure\n",
    "fig, ax = plt.subplots(figsize=(4.,3.))\n",
    "ax.set_xlim([0,k_node[-1]])\n",
    "ax.set_xticks(k_node)\n",
    "ax.set_xticklabels(k_lab)\n",
    "\n",
    "for n in range(len(k_node)):\n",
    "    ax.axvline(x=k_node[n], linewidth=0.5, color='k')\n",
    "    \n",
    "ax.plot(k_dist,evals[0],color='k')\n",
    "ax.plot(k_dist,evals[1],color='k')"
   ]
  },
  {
   "cell_type": "code",
   "execution_count": null,
   "metadata": {},
   "outputs": [],
   "source": []
  },
  {
   "cell_type": "code",
   "execution_count": null,
   "metadata": {},
   "outputs": [],
   "source": []
  }
 ],
 "metadata": {
  "file_extension": ".py",
  "kernelspec": {
   "display_name": "Python 3",
   "language": "python",
   "name": "python3"
  },
  "language_info": {
   "codemirror_mode": {
    "name": "ipython",
    "version": 3
   },
   "file_extension": ".py",
   "mimetype": "text/x-python",
   "name": "python",
   "nbconvert_exporter": "python",
   "pygments_lexer": "ipython3",
   "version": "3.6.5"
  },
  "mimetype": "text/x-python",
  "name": "python",
  "npconvert_exporter": "python",
  "pygments_lexer": "ipython3",
  "version": 3
 },
 "nbformat": 4,
 "nbformat_minor": 2
}
